{
  "nbformat": 4,
  "nbformat_minor": 0,
  "metadata": {
    "colab": {
      "provenance": [],
      "collapsed_sections": [
        "8Wi_Y6-xaZcg"
      ]
    },
    "kernelspec": {
      "name": "python3",
      "display_name": "Python 3"
    },
    "language_info": {
      "name": "python"
    }
  },
  "cells": [
    {
      "cell_type": "markdown",
      "source": [
        "# **Chi-Square test**"
      ],
      "metadata": {
        "id": "8Wi_Y6-xaZcg"
      }
    },
    {
      "cell_type": "markdown",
      "source": [
        "### **Objective:**\n",
        "To use the Chi-Square test for independence to determine if there's a significant association between the type of smart home device purchased (Smart Thermostats vs. Smart Lights) and the customer satisfaction level."
      ],
      "metadata": {
        "id": "0wNEVLUZa6vk"
      }
    },
    {
      "cell_type": "markdown",
      "source": [
        "### **1. State the Hypotheses:**"
      ],
      "metadata": {
        "id": "iobHdmqybMXJ"
      }
    },
    {
      "cell_type": "markdown",
      "source": [
        "\n",
        "\n",
        "*   **Null Hypothesis (H₀)**: Customer satisfaction is independent of the device type.\n",
        "*   **Alternative Hypothesis (H₁)**: Customer satisfaction is dependent on the device type.\n",
        "\n"
      ],
      "metadata": {
        "id": "DVU6_Jb1buZ2"
      }
    },
    {
      "cell_type": "markdown",
      "source": [
        "### **2. Compute the Chi-Square Statistic:**"
      ],
      "metadata": {
        "id": "a75sM0kOcLTa"
      }
    },
    {
      "cell_type": "code",
      "execution_count": null,
      "metadata": {
        "id": "XAjajO3LaO1_"
      },
      "outputs": [],
      "source": [
        "#import required libraries\n",
        "import numpy as np\n",
        "from scipy.stats import chi2_contingency"
      ]
    },
    {
      "cell_type": "code",
      "source": [
        "# Observed frequencies\n",
        "a=np.array([[50,70],[80,100],[60,90],[30,50],[20,50]])"
      ],
      "metadata": {
        "id": "HeLB6QZGdWje"
      },
      "execution_count": null,
      "outputs": []
    },
    {
      "cell_type": "code",
      "source": [
        "chi2,p,dof,excepted=chi2_contingency(a)\n",
        "print(\"chi2=\",chi2)\n",
        "print(\"p=\",p)\n",
        "print(\"dof=\",dof)\n",
        "print(\"excepted=\",excepted)"
      ],
      "metadata": {
        "colab": {
          "base_uri": "https://localhost:8080/"
        },
        "id": "sI1bprpUdgOb",
        "outputId": "9a167e94-14cc-4182-ac43-a202108aef5e"
      },
      "execution_count": null,
      "outputs": [
        {
          "output_type": "stream",
          "name": "stdout",
          "text": [
            "chi2= 5.638227513227513\n",
            "p= 0.22784371130697179\n",
            "dof= 4\n",
            "excepted= [[ 48.  72.]\n",
            " [ 72. 108.]\n",
            " [ 60.  90.]\n",
            " [ 32.  48.]\n",
            " [ 28.  42.]]\n"
          ]
        }
      ]
    },
    {
      "cell_type": "markdown",
      "source": [
        "### **3. Determine the Critical Value:**"
      ],
      "metadata": {
        "id": "PAd6z_TDd0Ch"
      }
    },
    {
      "cell_type": "markdown",
      "source": [
        "The critical value is determined by the degrees of freedom and the significance level (alpha = 0.05). The degrees of freedom (dof) can be calculated as:\n",
        "\n",
        "dof\n",
        "=\n",
        "(\n",
        "Number of Rows\n",
        "−\n",
        "1\n",
        ")\n",
        "×\n",
        "(\n",
        "Number of Columns\n",
        "−\n",
        "1)\n"
      ],
      "metadata": {
        "id": "pfub3FNOd4FI"
      }
    },
    {
      "cell_type": "code",
      "source": [
        "degrees_of_freedom=(a.shape[0]-1)*(a.shape[1]-1)\n",
        "degrees_of_freedom"
      ],
      "metadata": {
        "colab": {
          "base_uri": "https://localhost:8080/"
        },
        "id": "-J6_4Ng8ebRe",
        "outputId": "ef59c9fc-ad09-47a4-b6a7-e23bae8c97d4"
      },
      "execution_count": null,
      "outputs": [
        {
          "output_type": "execute_result",
          "data": {
            "text/plain": [
              "4"
            ]
          },
          "metadata": {},
          "execution_count": 10
        }
      ]
    },
    {
      "cell_type": "code",
      "source": [
        "import scipy.stats\n",
        "# Significance level\n",
        "alpha = 0.05\n",
        "\n",
        "# Critical value from Chi-Square distribution with the calculated degrees of freedom\n",
        "critical_value = scipy.stats.chi2.ppf(1 - alpha, 4)\n",
        "print(\"Critical value:\", critical_value)"
      ],
      "metadata": {
        "colab": {
          "base_uri": "https://localhost:8080/"
        },
        "id": "y4HWHm5TgZPe",
        "outputId": "379e8ed4-818b-498f-9e7b-f3b12fac34e6"
      },
      "execution_count": null,
      "outputs": [
        {
          "output_type": "stream",
          "name": "stdout",
          "text": [
            "Critical value: 9.487729036781154\n"
          ]
        }
      ]
    },
    {
      "cell_type": "markdown",
      "source": [
        "### **4. Make a Decision:**\n"
      ],
      "metadata": {
        "id": "fJYTXmdpk0XM"
      }
    },
    {
      "cell_type": "markdown",
      "source": [
        "\n",
        "Compare the Chi-Square statistic with the critical value to decide whether to accept the null hypothesis or reject the null hypothesis"
      ],
      "metadata": {
        "id": "5UX7F_xHk8Gj"
      }
    },
    {
      "cell_type": "code",
      "source": [
        "if chi2>=critical_value:\n",
        "    print(\"reject the null hypothesis\")\n",
        "else:\n",
        "    print(\"accept the null hypothesis\")"
      ],
      "metadata": {
        "colab": {
          "base_uri": "https://localhost:8080/"
        },
        "id": "3ezYxvkRk_zD",
        "outputId": "c105b49b-daa9-40d3-f11a-d39a4c2843ba"
      },
      "execution_count": null,
      "outputs": [
        {
          "output_type": "stream",
          "name": "stdout",
          "text": [
            "accept the null hypothesis\n"
          ]
        }
      ]
    },
    {
      "cell_type": "markdown",
      "source": [
        "### **5.Conclusion:**"
      ],
      "metadata": {
        "id": "tfJHynW9l4Ss"
      }
    },
    {
      "cell_type": "markdown",
      "source": [
        "Since the Chi-Square statistic (5.64) is less than the critical value (9.49) and the p-value (0.23) is greater than the significance level (0.05), we fail to reject the null hypothesis. This suggests that there is no significant association between the type of smart home device and customer satisfaction levels based on the data provided"
      ],
      "metadata": {
        "id": "Iq8EeLDdl4Mq"
      }
    },
    {
      "cell_type": "markdown",
      "source": [
        "# **Hypothesis Testing**"
      ],
      "metadata": {
        "id": "TCJeFnLRmxDP"
      }
    },
    {
      "cell_type": "markdown",
      "source": [
        "### **Objective:**\n",
        "To investigate the restaurant owners' claim about the increase in weekly operating costs using hypothesis testing."
      ],
      "metadata": {
        "id": "SaQ2RBuXm6nF"
      }
    },
    {
      "cell_type": "markdown",
      "source": [
        "###**1. State the Hypotheses statement:**###"
      ],
      "metadata": {
        "id": "aiCPT4Y8nHPu"
      }
    },
    {
      "cell_type": "markdown",
      "source": [
        "\n",
        "\n",
        "*   **Null Hypothesis (H₀):** The mean weekly operating cost according to the theoretical model is accurate.  \n",
        "H₀\n",
        ":\n",
        "𝜇\n",
        "=\n",
        "1000+5X\n",
        "\n",
        "*   **Alternative Hypothesis (H₁):** The mean weekly operating cost is higher than the theoretical model suggests.  \n",
        "H₁\n",
        ":\n",
        "𝜇 >\n",
        "1000+5X\n",
        "\n",
        "\n"
      ],
      "metadata": {
        "id": "xiyZ2Dvfo2Xc"
      }
    },
    {
      "cell_type": "markdown",
      "source": [
        "### **2. Calculate the Test Statistic:**"
      ],
      "metadata": {
        "id": "RPzD8BkXqGqk"
      }
    },
    {
      "cell_type": "markdown",
      "source": [
        "Given   \n",
        "xˉ = sample mean weekly cost (Rs. 3,050)  \n",
        "μ = theoretical mean weekly cost according to the cost model (W = $1,000 + $5X for X = 600 units)  \n",
        "σ = 5*25 units  \n",
        "n = sample size (25 restaurants)"
      ],
      "metadata": {
        "id": "hJ3tqIjjqc3j"
      }
    },
    {
      "cell_type": "code",
      "source": [
        "import scipy.stats as stats\n",
        "\n",
        "# Given data\n",
        "sample_mean = 3050  # Sample mean weekly cost (Rs.)\n",
        "theoretical_mean = 1000 + 5 * 600  # Theoretical mean weekly cost\n",
        "sigma = 5 * 25  # Standard deviation of weekly cost\n",
        "n = 25  # Sample size\n",
        "\n",
        "# Calculate the test statistic\n",
        "t_statistic = (sample_mean - theoretical_mean) / (sigma / n**0.5)\n",
        "print(\"Test Statistic:\", t_statistic)"
      ],
      "metadata": {
        "colab": {
          "base_uri": "https://localhost:8080/"
        },
        "id": "TnEU9EPdrCQl",
        "outputId": "8da3b27b-f190-4c41-ff11-9671bf1708bf"
      },
      "execution_count": null,
      "outputs": [
        {
          "output_type": "stream",
          "name": "stdout",
          "text": [
            "Test Statistic: -38.0\n"
          ]
        }
      ]
    },
    {
      "cell_type": "markdown",
      "source": [
        "### **3. Determine the Critical Value:**\n",
        "Using the alpha level of 5% (α = 0.05), determine the critical value from the standard normal (Z) distribution table"
      ],
      "metadata": {
        "id": "I0yfTyk4rgyj"
      }
    },
    {
      "cell_type": "code",
      "source": [
        "# Significance level\n",
        "alpha = 0.05\n",
        "\n",
        "# Degrees of freedom\n",
        "dof = n - 1\n",
        "\n",
        "# Critical value from the t-distribution table for one-tailed test\n",
        "t_critical = stats.t.ppf(1 - alpha, dof)\n",
        "print(\"Critical Value:\", t_critical)"
      ],
      "metadata": {
        "colab": {
          "base_uri": "https://localhost:8080/"
        },
        "id": "yB0KIOvprm5X",
        "outputId": "5b897d45-ab1a-45eb-d6a7-f9dd2057d5f4"
      },
      "execution_count": null,
      "outputs": [
        {
          "output_type": "stream",
          "name": "stdout",
          "text": [
            "Critical Value: 1.7108820799094275\n"
          ]
        }
      ]
    },
    {
      "cell_type": "markdown",
      "source": [
        "### **4. Make a Decision:**\n",
        "Compare the test statistic with the critical value to decide whether to reject the null hypothesis or accept the null hypothesis"
      ],
      "metadata": {
        "id": "u_GxdjBdr0Yj"
      }
    },
    {
      "cell_type": "code",
      "source": [
        "if t_statistic > t_critical:\n",
        "    print(\"reject the null hypothesis\")\n",
        "else:\n",
        "    print(\"accept the null hypothesis\")"
      ],
      "metadata": {
        "colab": {
          "base_uri": "https://localhost:8080/"
        },
        "id": "qkBmTrk3r8xA",
        "outputId": "853265e8-c85e-461f-b7c9-aae674464146"
      },
      "execution_count": null,
      "outputs": [
        {
          "output_type": "stream",
          "name": "stdout",
          "text": [
            "accept the null hypothesis\n"
          ]
        }
      ]
    },
    {
      "cell_type": "markdown",
      "source": [
        "### **5. Conclusion:**"
      ],
      "metadata": {
        "id": "xgBvlF9mslnh"
      }
    },
    {
      "cell_type": "markdown",
      "source": [
        "Since the test statistic (-38.0) is much less than the critical value (1.71), we fail to reject the null hypothesis.\n",
        "There is no strong evidence to support the restaurant owners' claim that the weekly operating costs are higher than the model suggests based on the provided data."
      ],
      "metadata": {
        "id": "oCbxv1Jmsv74"
      }
    }
  ]
}