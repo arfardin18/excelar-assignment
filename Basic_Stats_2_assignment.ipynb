{
  "nbformat": 4,
  "nbformat_minor": 0,
  "metadata": {
    "colab": {
      "provenance": []
    },
    "kernelspec": {
      "name": "python3",
      "display_name": "Python 3"
    },
    "language_info": {
      "name": "python"
    }
  },
  "cells": [
    {
      "cell_type": "markdown",
      "source": [
        "## **Estimation And Confidence Intervals**"
      ],
      "metadata": {
        "id": "1CbnIT-OaL3K"
      }
    },
    {
      "cell_type": "markdown",
      "source": [
        "**Step 1: Import Necessary Libraries**"
      ],
      "metadata": {
        "id": "FzY5ddxSZC8b"
      }
    },
    {
      "cell_type": "code",
      "execution_count": null,
      "metadata": {
        "id": "vxTSpkKkXD5p"
      },
      "outputs": [],
      "source": [
        "import numpy as np\n",
        "import scipy.stats as stats"
      ]
    },
    {
      "cell_type": "markdown",
      "source": [
        "**Step 2: Input the Data**"
      ],
      "metadata": {
        "id": "dZBI_05yZLaK"
      }
    },
    {
      "cell_type": "code",
      "source": [
        "data = np.array([1.13, 1.55, 1.43, 0.92, 1.25, 1.36, 1.32, 0.85, 1.07, 1.48, 1.20, 1.33, 1.18, 1.22, 1.29])"
      ],
      "metadata": {
        "id": "ZiQVXH8nXHKt"
      },
      "execution_count": null,
      "outputs": []
    },
    {
      "cell_type": "markdown",
      "source": [
        "**Step 3: Calculate Sample Mean and Sample Standard Deviation**"
      ],
      "metadata": {
        "id": "iNvR3a8SZSAT"
      }
    },
    {
      "cell_type": "code",
      "source": [
        "sample_size = len(data)\n",
        "sample_mean = np.mean(data)\n",
        "sample_std = np.std(data, ddof=1)"
      ],
      "metadata": {
        "id": "JVKxHXlrXTs7"
      },
      "execution_count": null,
      "outputs": []
    },
    {
      "cell_type": "markdown",
      "source": [
        "**Step 4: Determine the t-Critical Value**"
      ],
      "metadata": {
        "id": "cHb3RPuuZZ9G"
      }
    },
    {
      "cell_type": "code",
      "source": [
        "confidence_level = 0.99\n",
        "alpha = 1 - confidence_level\n",
        "t_critical = stats.t.ppf(1 - alpha/2, df=sample_size-1)\n"
      ],
      "metadata": {
        "id": "jhmICp56X9HU"
      },
      "execution_count": null,
      "outputs": []
    },
    {
      "cell_type": "markdown",
      "source": [
        "**Step 5: Calculate the Margin of Error Using the Sample Standard Deviation**"
      ],
      "metadata": {
        "id": "5_5IRTeZZiLa"
      }
    },
    {
      "cell_type": "code",
      "source": [
        "margin_of_error = t_critical * (sample_std / np.sqrt(sample_size))\n"
      ],
      "metadata": {
        "id": "tFdzg4sBYNzL"
      },
      "execution_count": null,
      "outputs": []
    },
    {
      "cell_type": "markdown",
      "source": [
        "**Step 6: Construct the 99% Confidence Interval Using the Sample Standard Deviation**"
      ],
      "metadata": {
        "id": "lSnsuKBvZqKs"
      }
    },
    {
      "cell_type": "code",
      "source": [
        "confidence_interval_sample_std = (sample_mean - margin_of_error, sample_mean + margin_of_error)\n",
        "print(\"99% Confidence Interval using sample standard deviation:\", confidence_interval_sample_std)\n"
      ],
      "metadata": {
        "colab": {
          "base_uri": "https://localhost:8080/"
        },
        "id": "y800rgkKYSpw",
        "outputId": "5bfd8272-cc25-45d4-df26-0cf48ad6192c"
      },
      "execution_count": null,
      "outputs": [
        {
          "output_type": "stream",
          "name": "stdout",
          "text": [
            "99% Confidence Interval using sample standard deviation: (1.0901973384384906, 1.3871359948948425)\n"
          ]
        }
      ]
    },
    {
      "cell_type": "markdown",
      "source": [
        "**Step 7: Determine the z-Critical Value**"
      ],
      "metadata": {
        "id": "s1hiKfJkZyDF"
      }
    },
    {
      "cell_type": "code",
      "source": [
        "population_std = 0.2\n",
        "z_critical = stats.norm.ppf(1 - alpha/2)"
      ],
      "metadata": {
        "id": "N-_Q8YAxYY3V"
      },
      "execution_count": null,
      "outputs": []
    },
    {
      "cell_type": "markdown",
      "source": [
        "**Step 8: Calculate the Margin of Error Using the Known Population Standard Deviation**"
      ],
      "metadata": {
        "id": "nbvldYGWZ4CQ"
      }
    },
    {
      "cell_type": "code",
      "source": [
        "margin_of_error_population_std = z_critical * (population_std / np.sqrt(sample_size))\n"
      ],
      "metadata": {
        "id": "pK4-5o-2YsTC"
      },
      "execution_count": null,
      "outputs": []
    },
    {
      "cell_type": "markdown",
      "source": [
        "**Step 9: Construct the 99% Confidence Interval Using the Known Population Standard Deviation**"
      ],
      "metadata": {
        "id": "hzYeybBbZ96s"
      }
    },
    {
      "cell_type": "code",
      "source": [
        "confidence_interval_population_std = (sample_mean - margin_of_error_population_std, sample_mean + margin_of_error_population_std)\n",
        "print(\"99% Confidence Interval using known population standard deviation:\", confidence_interval_population_std)\n"
      ],
      "metadata": {
        "colab": {
          "base_uri": "https://localhost:8080/"
        },
        "id": "sjM08ntQYu9K",
        "outputId": "29a73d46-8324-41de-f831-e586b4a18bd3"
      },
      "execution_count": null,
      "outputs": [
        {
          "output_type": "stream",
          "name": "stdout",
          "text": [
            "99% Confidence Interval using known population standard deviation: (1.1056514133957607, 1.3716819199375725)\n"
          ]
        }
      ]
    }
  ]
}