{
  "nbformat": 4,
  "nbformat_minor": 0,
  "metadata": {
    "colab": {
      "provenance": []
    },
    "kernelspec": {
      "name": "python3",
      "display_name": "Python 3"
    },
    "language_info": {
      "name": "python"
    }
  },
  "cells": [
    {
      "cell_type": "markdown",
      "source": [
        "Basic Python"
      ],
      "metadata": {
        "id": "r45Dh-XO2D6A"
      }
    },
    {
      "cell_type": "markdown",
      "source": [
        "Exercise 1: Prime Numbers\n",
        "\n",
        "\n"
      ],
      "metadata": {
        "id": "KpI9Q59V2ITI"
      }
    },
    {
      "cell_type": "code",
      "source": [
        "prime_input = int(input(\"Enter a number: \"))\n",
        "for i in range(2,prime_input//2+1\n",
        "               ):\n",
        "  if prime_input%i==0:\n",
        "    print(f\"{prime_input} is not a prime number\")\n",
        "    break\n",
        "else:\n",
        "  print(f\"{prime_input} is a prime number\")"
      ],
      "metadata": {
        "colab": {
          "base_uri": "https://localhost:8080/"
        },
        "id": "VAiRTxwA2Ssj",
        "outputId": "6805aad4-aa05-46b0-c755-7be90743bd87"
      },
      "execution_count": null,
      "outputs": [
        {
          "output_type": "stream",
          "name": "stdout",
          "text": [
            "Enter a number: 50\n",
            "50 is not a prime number\n"
          ]
        }
      ]
    },
    {
      "cell_type": "markdown",
      "source": [
        "Exercise 2: Product of Random Numbers"
      ],
      "metadata": {
        "id": "hgNQrVnu3WzI"
      }
    },
    {
      "cell_type": "code",
      "source": [
        "import random\n",
        "num1=random.randint(1,10)\n",
        "num2=random.randint(1,10)\n",
        "product=int(input(\"what is the product of the two numbers?\"))\n",
        "if product==num1*num2:\n",
        "  print(\"correct\")\n",
        "else:\n",
        "  print(\"incorrect\")\n"
      ],
      "metadata": {
        "colab": {
          "base_uri": "https://localhost:8080/"
        },
        "id": "CVt_ym7f3c3j",
        "outputId": "daf39742-5aca-4dfd-ac23-8f71f19d09b6"
      },
      "execution_count": null,
      "outputs": [
        {
          "output_type": "stream",
          "name": "stdout",
          "text": [
            "what is the product of the two numbers?10\n",
            "incorrect\n"
          ]
        }
      ]
    },
    {
      "cell_type": "markdown",
      "source": [
        "Exercise 3: Squares of Even/Odd Numbers"
      ],
      "metadata": {
        "id": "7O5D0Mj15QWu"
      }
    },
    {
      "cell_type": "code",
      "source": [
        "req_squares_even=[]\n",
        "for i in range(100,200,2):\n",
        "    req_squares_even.append(i**2)\n",
        "print(req_squares_even)\n",
        "req_squares_odd=[]\n",
        "for i in range(101,200,2):\n",
        "    req_squares_odd.append(i**2)\n",
        "print(req_squares_odd)\n"
      ],
      "metadata": {
        "colab": {
          "base_uri": "https://localhost:8080/"
        },
        "id": "Eh7j7FJi5gwo",
        "outputId": "7d2c7e59-e97d-4c7a-92a6-c4b15d9e313b"
      },
      "execution_count": null,
      "outputs": [
        {
          "output_type": "stream",
          "name": "stdout",
          "text": [
            "[10000, 10404, 10816, 11236, 11664, 12100, 12544, 12996, 13456, 13924, 14400, 14884, 15376, 15876, 16384, 16900, 17424, 17956, 18496, 19044, 19600, 20164, 20736, 21316, 21904, 22500, 23104, 23716, 24336, 24964, 25600, 26244, 26896, 27556, 28224, 28900, 29584, 30276, 30976, 31684, 32400, 33124, 33856, 34596, 35344, 36100, 36864, 37636, 38416, 39204]\n",
            "[10201, 10609, 11025, 11449, 11881, 12321, 12769, 13225, 13689, 14161, 14641, 15129, 15625, 16129, 16641, 17161, 17689, 18225, 18769, 19321, 19881, 20449, 21025, 21609, 22201, 22801, 23409, 24025, 24649, 25281, 25921, 26569, 27225, 27889, 28561, 29241, 29929, 30625, 31329, 32041, 32761, 33489, 34225, 34969, 35721, 36481, 37249, 38025, 38809, 39601]\n"
          ]
        }
      ]
    },
    {
      "cell_type": "markdown",
      "source": [
        "Exercise 4: Word counter"
      ],
      "metadata": {
        "id": "R3sDv1aK6VvJ"
      }
    },
    {
      "cell_type": "code",
      "source": [
        "input_text = \"This is a sample text. This text will be used to demonstrate the word counter.\"\n",
        "words=input_text.split()\n",
        "word_count={}\n",
        "for word in words:\n",
        "  if word in word_count:\n",
        "    word_count[word]+=1\n",
        "  else:\n",
        "    word_count[word]=1\n",
        "for i in word_count:\n",
        "  print(f\"{i}:{word_count[i]}\")"
      ],
      "metadata": {
        "colab": {
          "base_uri": "https://localhost:8080/"
        },
        "id": "0_7F5lwn6iO0",
        "outputId": "430dd0be-f192-4468-b5ca-f2a8fddf79dd"
      },
      "execution_count": null,
      "outputs": [
        {
          "output_type": "stream",
          "name": "stdout",
          "text": [
            "This:2\n",
            "is:1\n",
            "a:1\n",
            "sample:1\n",
            "text.:1\n",
            "text:1\n",
            "will:1\n",
            "be:1\n",
            "used:1\n",
            "to:1\n",
            "demonstrate:1\n",
            "the:1\n",
            "word:1\n",
            "counter.:1\n"
          ]
        }
      ]
    },
    {
      "cell_type": "markdown",
      "source": [
        "Exercise 5: Check for Palindrome"
      ],
      "metadata": {
        "id": "wtuSyBTH8rHv"
      }
    },
    {
      "cell_type": "code",
      "source": [
        "input_num=input(\"enter a number\")\n",
        "if input_num==input_num[::-1]:\n",
        "  print(True)\n",
        "else:\n",
        "  print(False)"
      ],
      "metadata": {
        "colab": {
          "base_uri": "https://localhost:8080/"
        },
        "id": "YIexxcFe8y4L",
        "outputId": "a2049303-8abe-4814-b319-9a2d9f562eeb"
      },
      "execution_count": null,
      "outputs": [
        {
          "output_type": "stream",
          "name": "stdout",
          "text": [
            "enter a number33\n",
            "True\n"
          ]
        }
      ]
    },
    {
      "cell_type": "code",
      "source": [
        "input_num=int(input(\"enter a number\"))\n",
        "temp=input_num\n",
        "req=0\n",
        "while input_num>0:\n",
        "  req=req*10+input_num%10\n",
        "  input_num//=10\n",
        "if temp==req:\n",
        "  print(True)\n",
        "else:\n",
        "  print(False)\n"
      ],
      "metadata": {
        "colab": {
          "base_uri": "https://localhost:8080/"
        },
        "id": "kGTPn8UB-2Sw",
        "outputId": "aa95497a-5cff-419e-a2f3-f1c222bbbc74"
      },
      "execution_count": null,
      "outputs": [
        {
          "output_type": "stream",
          "name": "stdout",
          "text": [
            "enter a number341222\n",
            "False\n"
          ]
        }
      ]
    }
  ]
}